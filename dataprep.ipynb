{
 "cells": [
  {
   "cell_type": "code",
   "execution_count": null,
   "metadata": {},
   "outputs": [],
   "source": [
    "import requests\n",
    "import gzip\n",
    "import io\n",
    "import os\n",
    "import shutil\n",
    "import pandas as pd"
   ]
  },
  {
   "cell_type": "code",
   "execution_count": null,
   "metadata": {},
   "outputs": [],
   "source": [
    "def download_tsv(suffix, file_name):\n",
    "    outdir = './raw_output'\n",
    "    if not os.path.exists(outdir):\n",
    "        os.mkdir(outdir)\n",
    "    fullname = os.path.join(outdir, file_name + \".tsv\") \n",
    "    url = \"https://datasets.imdbws.com/\" + suffix\n",
    "    response = requests.get(url)\n",
    "    gzipped_content = response.content\n",
    "    with gzip.open(io.BytesIO(gzipped_content), 'rt', encoding='utf-8') as f_in:\n",
    "        with open(fullname, 'w', encoding='utf-8') as f_out:\n",
    "            shutil.copyfileobj(f_in, f_out)\n",
    "    return fullname"
   ]
  },
  {
   "cell_type": "code",
   "execution_count": null,
   "metadata": {},
   "outputs": [],
   "source": [
    "download_tsv(\"title.akas.tsv.gz\", \"title_akas\")\n",
    "download_tsv(\"title.basics.tsv.gz\",\"title_basics\")\n",
    "download_tsv(\"title.episode.tsv.gz\",\"title_episode\")\n",
    "download_tsv(\"title.principals.tsv.gz\", \"title_principals\")\n",
    "download_tsv(\"title.ratings.tsv.gz\", \"title_ratings\")\n",
    "download_tsv(\"title.crew.tsv.gz\", \"title_crew\")\n",
    "download_tsv(\"name.basics.tsv.gz\", \"name_basics\")"
   ]
  },
  {
   "cell_type": "code",
   "execution_count": null,
   "metadata": {},
   "outputs": [],
   "source": [
    "df_title_basics = pd.read_csv('./raw_output/title_basics.tsv', delimiter='\\t', encoding='UTF-8')\n",
    "df_title_ratings = pd.read_csv('./raw_output/title_ratings.tsv', delimiter='\\t', encoding='UTF-8')\n",
    "df_name_basics = pd.read_csv('./raw_output/name_basics.tsv', delimiter='\\t', encoding='UTF-8')\n",
    "df_title_principals = pd.read_csv('./raw_output/title_principals.tsv', delimiter='\\t', encoding='UTF-8')"
   ]
  },
  {
   "cell_type": "code",
   "execution_count": null,
   "metadata": {},
   "outputs": [],
   "source": [
    "film_filter = (df_title_basics['titleType'] == 'movie') & (df_title_basics['isAdult'] == 0 ) & (df_title_basics['startYear'] != '\\\\N' ) & (df_title_basics['runtimeMinutes'] != '\\\\N' ) & (df_title_basics['genres'] != '\\\\N' )\n",
    "\n",
    "df_films_only = df_title_basics.loc[film_filter]"
   ]
  },
  {
   "cell_type": "code",
   "execution_count": null,
   "metadata": {},
   "outputs": [],
   "source": [
    "df_films = pd.merge(df_films_only, df_title_ratings, 'inner', on='tconst')"
   ]
  },
  {
   "cell_type": "code",
   "execution_count": null,
   "metadata": {},
   "outputs": [],
   "source": [
    "df_genres = df_films[['tconst', 'genres']]\n",
    "\n",
    "df_genres = (df_genres.set_index(['tconst'])\n",
    "   .apply(lambda x: x.str.split(',').explode())\n",
    "   .reset_index())"
   ]
  },
  {
   "cell_type": "code",
   "execution_count": null,
   "metadata": {},
   "outputs": [],
   "source": [
    "df_films.drop(['titleType', 'originalTitle', 'isAdult', 'endYear', 'genres'], axis=1, inplace=True)\n",
    "\n",
    "df_films.rename(columns={\"tconst\": \"filmId\", \"primaryTitle\": \"filmName\", \"startYear\": \"yearReleased\"}, inplace=True)"
   ]
  },
  {
   "cell_type": "code",
   "execution_count": null,
   "metadata": {},
   "outputs": [],
   "source": [
    "cast_filter = (df_title_principals['category'].isin(['director', 'actor', 'actress', 'writer'])) & (df_title_principals['tconst'].isin(df_films['filmId']))\n",
    "\n",
    "df_film_cast = df_title_principals.loc[cast_filter]"
   ]
  },
  {
   "cell_type": "code",
   "execution_count": null,
   "metadata": {},
   "outputs": [],
   "source": [
    "df_film_cast.drop(['ordering', 'job', 'characters'], axis=1, inplace=True)\n",
    "\n",
    "df_film_cast.rename(columns={\"tconst\": \"filmId\", \"nconst\": \"castCrewId\"}, inplace=True)"
   ]
  },
  {
   "cell_type": "code",
   "execution_count": null,
   "metadata": {},
   "outputs": [],
   "source": [
    "people_filter = (df_name_basics['nconst'].isin(df_film_cast['castCrewId']))\n",
    "\n",
    "df_cast = df_name_basics.loc[people_filter]"
   ]
  },
  {
   "cell_type": "code",
   "execution_count": null,
   "metadata": {},
   "outputs": [],
   "source": [
    "df_cast.drop(['primaryProfession', 'knownForTitles'], axis=1, inplace=True)\n",
    "\n",
    "df_cast.rename(columns={\"nconst\": \"castCrewId\", \"primaryName\": \"castCrewName\"}, inplace=True)"
   ]
  },
  {
   "cell_type": "code",
   "execution_count": null,
   "metadata": {},
   "outputs": [],
   "source": [
    "outdir = './output'\n",
    "if not os.path.exists(outdir):\n",
    "    os.mkdir(outdir)\n",
    "\n",
    "df_films.to_csv(os.path.join(outdir, \"films.csv\"), index=False)\n",
    "df_genres.to_csv(os.path.join(outdir, \"genres.csv\"), index=False)\n",
    "df_cast.to_csv(os.path.join(outdir, \"people.csv\"), index=False)\n",
    "df_film_cast.to_csv(os.path.join(outdir, \"films_people.csv\"), index=False)"
   ]
  },
  {
   "cell_type": "code",
   "execution_count": null,
   "metadata": {},
   "outputs": [],
   "source": []
  }
 ],
 "metadata": {
  "kernelspec": {
   "display_name": "imdb",
   "language": "python",
   "name": "python3"
  },
  "language_info": {
   "codemirror_mode": {
    "name": "ipython",
    "version": 3
   },
   "file_extension": ".py",
   "mimetype": "text/x-python",
   "name": "python",
   "nbconvert_exporter": "python",
   "pygments_lexer": "ipython3",
   "version": "3.12.2"
  }
 },
 "nbformat": 4,
 "nbformat_minor": 2
}
